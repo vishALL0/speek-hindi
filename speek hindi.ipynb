{
 "cells": [
  {
   "cell_type": "code",
   "execution_count": 3,
   "id": "93c72a98",
   "metadata": {},
   "outputs": [
    {
     "name": "stdout",
     "output_type": "stream",
     "text": [
      "Collecting SpeechRecognition\n",
      "  Using cached SpeechRecognition-3.8.1-py2.py3-none-any.whl (32.8 MB)\n",
      "Installing collected packages: SpeechRecognition\n",
      "Successfully installed SpeechRecognition-3.8.1\n",
      "Note: you may need to restart the kernel to use updated packages.\n"
     ]
    }
   ],
   "source": [
    "pip install SpeechRecognition"
   ]
  },
  {
   "cell_type": "code",
   "execution_count": 4,
   "id": "471fa3cb",
   "metadata": {},
   "outputs": [
    {
     "name": "stdout",
     "output_type": "stream",
     "text": [
      "Requirement already satisfied: PyAudio in c:\\users\\oldmo\\anaconda3.tt\\lib\\site-packages (0.2.12)\n",
      "Note: you may need to restart the kernel to use updated packages.\n"
     ]
    }
   ],
   "source": [
    "pip install PyAudio"
   ]
  },
  {
   "cell_type": "code",
   "execution_count": 5,
   "id": "30c272e3",
   "metadata": {},
   "outputs": [
    {
     "name": "stdout",
     "output_type": "stream",
     "text": [
      "Collecting pipwin\n",
      "  Using cached pipwin-0.5.2-py2.py3-none-any.whl\n",
      "Requirement already satisfied: six in c:\\users\\oldmo\\anaconda3.tt\\lib\\site-packages (from pipwin) (1.16.0)\n",
      "Collecting pySmartDL>=1.3.1\n",
      "  Using cached pySmartDL-1.3.4-py3-none-any.whl (20 kB)\n",
      "Requirement already satisfied: requests in c:\\users\\oldmo\\anaconda3.tt\\lib\\site-packages (from pipwin) (2.26.0)\n",
      "Collecting js2py\n",
      "  Using cached Js2Py-0.71-py3-none-any.whl (1.0 MB)\n",
      "Collecting pyprind\n",
      "  Using cached PyPrind-2.11.3-py2.py3-none-any.whl (8.4 kB)\n",
      "Requirement already satisfied: packaging in c:\\users\\oldmo\\anaconda3.tt\\lib\\site-packages (from pipwin) (21.0)\n",
      "Collecting docopt\n",
      "  Using cached docopt-0.6.2-py2.py3-none-any.whl\n",
      "Requirement already satisfied: beautifulsoup4>=4.9.0 in c:\\users\\oldmo\\anaconda3.tt\\lib\\site-packages (from pipwin) (4.10.0)\n",
      "Requirement already satisfied: soupsieve>1.2 in c:\\users\\oldmo\\anaconda3.tt\\lib\\site-packages (from beautifulsoup4>=4.9.0->pipwin) (2.2.1)\n",
      "Collecting pyjsparser>=2.5.1\n",
      "  Using cached pyjsparser-2.7.1-py3-none-any.whl\n",
      "Collecting tzlocal>=1.2\n",
      "  Using cached tzlocal-4.2-py3-none-any.whl (19 kB)\n",
      "Collecting pytz-deprecation-shim\n",
      "  Using cached pytz_deprecation_shim-0.1.0.post0-py2.py3-none-any.whl (15 kB)\n",
      "Collecting tzdata\n",
      "  Downloading tzdata-2022.6-py2.py3-none-any.whl (338 kB)\n",
      "Requirement already satisfied: pyparsing>=2.0.2 in c:\\users\\oldmo\\anaconda3.tt\\lib\\site-packages (from packaging->pipwin) (3.0.4)\n",
      "Requirement already satisfied: idna<4,>=2.5 in c:\\users\\oldmo\\anaconda3.tt\\lib\\site-packages (from requests->pipwin) (3.2)\n",
      "Requirement already satisfied: charset-normalizer~=2.0.0 in c:\\users\\oldmo\\anaconda3.tt\\lib\\site-packages (from requests->pipwin) (2.0.4)\n",
      "Requirement already satisfied: urllib3<1.27,>=1.21.1 in c:\\users\\oldmo\\anaconda3.tt\\lib\\site-packages (from requests->pipwin) (1.26.7)\n",
      "Requirement already satisfied: certifi>=2017.4.17 in c:\\users\\oldmo\\anaconda3.tt\\lib\\site-packages (from requests->pipwin) (2021.10.8)\n",
      "Installing collected packages: tzdata, pytz-deprecation-shim, tzlocal, pyjsparser, pySmartDL, pyprind, js2py, docopt, pipwin\n",
      "Successfully installed docopt-0.6.2 js2py-0.71 pipwin-0.5.2 pySmartDL-1.3.4 pyjsparser-2.7.1 pyprind-2.11.3 pytz-deprecation-shim-0.1.0.post0 tzdata-2022.6 tzlocal-4.2\n",
      "Note: you may need to restart the kernel to use updated packages.\n"
     ]
    }
   ],
   "source": [
    "pip install pipwin"
   ]
  },
  {
   "cell_type": "code",
   "execution_count": 6,
   "id": "f548ea07",
   "metadata": {},
   "outputs": [
    {
     "name": "stdout",
     "output_type": "stream",
     "text": [
      "Requirement already satisfied: pyaudio in c:\\users\\oldmo\\anaconda3.tt\\lib\\site-packages (0.2.12)\n",
      "Note: you may need to restart the kernel to use updated packages.\n"
     ]
    }
   ],
   "source": [
    "pip install pyaudio"
   ]
  },
  {
   "cell_type": "code",
   "execution_count": 9,
   "id": "5f404fa5",
   "metadata": {},
   "outputs": [
    {
     "name": "stdout",
     "output_type": "stream",
     "text": [
      "Listening\n",
      "Recognizing\n",
      "the query is printed=' तो मैंने क्या किया '\n"
     ]
    },
    {
     "data": {
      "text/plain": [
       "'तो मैंने क्या किया'"
      ]
     },
     "execution_count": 9,
     "metadata": {},
     "output_type": "execute_result"
    }
   ],
   "source": [
    "import speech_recognition as sr\n",
    "def hindi():\n",
    "    r=sr.Recognizer()\n",
    "    with sr.Microphone() as source:\n",
    "        print(\"Listening\")\n",
    "        r.pause_threshold =0.7\n",
    "        audio= r.listen(source)\n",
    "        try:\n",
    "            print(\"Recognizing\")\n",
    "            Query= r.recognize_google(audio, language='hi-In')\n",
    "            print(\"the query is printed='\",Query,\"'\")\n",
    "        except Exception as e:\n",
    "            print(e)\n",
    "            print(\"say that againn sir\")\n",
    "            return \"None\"\n",
    "        return Query\n",
    "\n",
    "hindi()"
   ]
  },
  {
   "cell_type": "code",
   "execution_count": null,
   "id": "5be9b43f",
   "metadata": {},
   "outputs": [],
   "source": []
  },
  {
   "cell_type": "code",
   "execution_count": null,
   "id": "98e957eb",
   "metadata": {},
   "outputs": [],
   "source": []
  }
 ],
 "metadata": {
  "kernelspec": {
   "display_name": "Python 3 (ipykernel)",
   "language": "python",
   "name": "python3"
  },
  "language_info": {
   "codemirror_mode": {
    "name": "ipython",
    "version": 3
   },
   "file_extension": ".py",
   "mimetype": "text/x-python",
   "name": "python",
   "nbconvert_exporter": "python",
   "pygments_lexer": "ipython3",
   "version": "3.9.7"
  }
 },
 "nbformat": 4,
 "nbformat_minor": 5
}
